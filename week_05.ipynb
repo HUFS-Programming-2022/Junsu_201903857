{
 "cells": [
  {
   "cell_type": "markdown",
   "id": "0c6b6251-5449-4a26-b76e-65da4f328669",
   "metadata": {},
   "source": [
    "## 반복문\n",
    "- for, while\n",
    "\n",
    "### while\n",
    "- 어떤 조건이 주어지며 그 조건이 만족될 때까지 블록 수행\n",
    "- 해당 조건이 거짓이면 수행을 멈춘다.\n",
    "    - 언제 빠져나오는지 정확하게 알아야 한다.\n",
    "- for + if\n",
    "\n",
    "#### for vs while\n",
    "- for loop: 반복 횟수를 정확히 알고, 반복 횟수가 변하지 않을 때\n",
    "    - 예: 전체 학생  성적 산출\n",
    "- while loop: 반복 횟수가 정확하지 않고, 어떤 조건이 만족될 때 프로그램을 종료하고 싶을 경우\n",
    "    - 예: 가위바위보로 이기면 종료"
   ]
  },
  {
   "cell_type": "code",
   "execution_count": null,
   "id": "857f150e-c396-428f-be31-a4d805916405",
   "metadata": {},
   "outputs": [],
   "source": [
    "for i in range(10):\n",
    "    print(1)"
   ]
  },
  {
   "cell_type": "code",
   "execution_count": null,
   "id": "981e890b-25f2-4b72-8d32-b34f0d1115c2",
   "metadata": {},
   "outputs": [],
   "source": [
    "j = 0\n",
    "while j < 5:\n",
    "    j =+ 1\n",
    "    print(j)    "
   ]
  },
  {
   "cell_type": "code",
   "execution_count": null,
   "id": "2ca9709c-c045-4b7e-9003-5504b72913a3",
   "metadata": {},
   "outputs": [],
   "source": [
    "characters = ['a', 'b', 'c']\n",
    "for ch in characters:\n",
    "    print(ch)"
   ]
  },
  {
   "cell_type": "code",
   "execution_count": null,
   "id": "08fe307f-dea8-4d16-abfb-9d6d55392287",
   "metadata": {},
   "outputs": [],
   "source": [
    "ch = 0\n",
    "while ch < len(characters):\n",
    "    print(characters[ch])\n",
    "    ch += 1"
   ]
  },
  {
   "cell_type": "markdown",
   "id": "24323f5b-8142-45be-82f9-43a55d340367",
   "metadata": {},
   "source": [
    "### 반복문의 제어\n",
    "- 의도치 않게 코드를 종료시킬 수 있기 때문에\n",
    "\n",
    "- break: 논리적으로 반복을 종료시키는 방법\n",
    "- else: 어떤 조건이 \"완전히\" 끝났을 때 한번 더 실행하는 블록, break로 끝난 것과 구분할 수 있다.\n",
    "- continue: 특정 조건을 건너뛰고 다음 loop를 수행함\n"
   ]
  },
  {
   "cell_type": "code",
   "execution_count": 2,
   "id": "f181f048-2e09-4c53-95bc-87a79c98e3b3",
   "metadata": {},
   "outputs": [
    {
     "name": "stdout",
     "output_type": "stream",
     "text": [
      "0\n",
      "1\n",
      "2\n",
      "3\n",
      "4\n"
     ]
    }
   ],
   "source": [
    "for i in range(10):\n",
    "    if i == 5: break\n",
    "    print(i)"
   ]
  },
  {
   "cell_type": "code",
   "execution_count": 3,
   "id": "c35e80e4-81fb-497c-9e2d-57e84b1cc42c",
   "metadata": {},
   "outputs": [
    {
     "name": "stdout",
     "output_type": "stream",
     "text": [
      "0\n",
      "1\n",
      "2\n",
      "3\n",
      "4\n"
     ]
    }
   ],
   "source": [
    "j = 0\n",
    "while j < 5:\n",
    "    print(j)\n",
    "    if j == 4: break\n",
    "    j += 1"
   ]
  },
  {
   "cell_type": "markdown",
   "id": "56ce12a3-5183-46e6-8733-7d02c7bc71dd",
   "metadata": {},
   "source": [
    "### 구구단\n",
    "- 1. for/while 중을 선택한 뒤 n단을 입력받아 출력한다.\n",
    "    - 출력: == 3단 ==\n",
    "           3 x 1 = 3\n",
    "           3 x 2 = 6\n",
    "           3 x 3 = 9\n",
    "           . . .\n",
    "           3 x 9 = 27\n",
    "- 2. 1 ~ n단까지 출력한다.\n",
    "- 3. 시작단, 끝단 둘 다 입력받을 것\n",
    "    - 예: 4 - 7단\n",
    "- 4. 프로그램으로 만든다."
   ]
  },
  {
   "cell_type": "code",
   "execution_count": 5,
   "id": "5b4b539c-7821-4b94-ade2-c29811623cb6",
   "metadata": {},
   "outputs": [
    {
     "name": "stdin",
     "output_type": "stream",
     "text": [
      " 7\n"
     ]
    },
    {
     "name": "stdout",
     "output_type": "stream",
     "text": [
      "== 7단 ==\n",
      "3 x 1 = 3\n",
      "3 x 2 = 6\n",
      "3 x 3 = 9\n",
      "3 x 4 = 12\n",
      "3 x 5 = 15\n",
      "3 x 6 = 18\n",
      "3 x 7 = 21\n",
      "3 x 8 = 24\n",
      "3 x 9 = 27\n"
     ]
    }
   ],
   "source": [
    "n = int(input())\n",
    "print(f\"== {n}단 ==\")\n",
    "for i in range(1,10):\n",
    "    print(f'3 x {i} = {3*i}')"
   ]
  },
  {
   "cell_type": "code",
   "execution_count": 6,
   "id": "ab076a33-2862-4490-b96b-53c01940b8cf",
   "metadata": {},
   "outputs": [
    {
     "name": "stdin",
     "output_type": "stream",
     "text": [
      " 8\n"
     ]
    },
    {
     "name": "stdout",
     "output_type": "stream",
     "text": [
      " == 1단 ==\n",
      "1 x 1 = 1\n",
      "1 x 2 = 2\n",
      "1 x 3 = 3\n",
      "1 x 4 = 4\n",
      "1 x 5 = 5\n",
      "1 x 6 = 6\n",
      "1 x 7 = 7\n",
      "1 x 8 = 8\n",
      "1 x 9 = 9\n",
      " == 2단 ==\n",
      "1 x 1 = 2\n",
      "1 x 2 = 4\n",
      "1 x 3 = 6\n",
      "1 x 4 = 8\n",
      "1 x 5 = 10\n",
      "1 x 6 = 12\n",
      "1 x 7 = 14\n",
      "1 x 8 = 16\n",
      "1 x 9 = 18\n",
      " == 3단 ==\n",
      "1 x 1 = 3\n",
      "1 x 2 = 6\n",
      "1 x 3 = 9\n",
      "1 x 4 = 12\n",
      "1 x 5 = 15\n",
      "1 x 6 = 18\n",
      "1 x 7 = 21\n",
      "1 x 8 = 24\n",
      "1 x 9 = 27\n",
      " == 4단 ==\n",
      "1 x 1 = 4\n",
      "1 x 2 = 8\n",
      "1 x 3 = 12\n",
      "1 x 4 = 16\n",
      "1 x 5 = 20\n",
      "1 x 6 = 24\n",
      "1 x 7 = 28\n",
      "1 x 8 = 32\n",
      "1 x 9 = 36\n",
      " == 5단 ==\n",
      "1 x 1 = 5\n",
      "1 x 2 = 10\n",
      "1 x 3 = 15\n",
      "1 x 4 = 20\n",
      "1 x 5 = 25\n",
      "1 x 6 = 30\n",
      "1 x 7 = 35\n",
      "1 x 8 = 40\n",
      "1 x 9 = 45\n",
      " == 6단 ==\n",
      "1 x 1 = 6\n",
      "1 x 2 = 12\n",
      "1 x 3 = 18\n",
      "1 x 4 = 24\n",
      "1 x 5 = 30\n",
      "1 x 6 = 36\n",
      "1 x 7 = 42\n",
      "1 x 8 = 48\n",
      "1 x 9 = 54\n",
      " == 7단 ==\n",
      "1 x 1 = 7\n",
      "1 x 2 = 14\n",
      "1 x 3 = 21\n",
      "1 x 4 = 28\n",
      "1 x 5 = 35\n",
      "1 x 6 = 42\n",
      "1 x 7 = 49\n",
      "1 x 8 = 56\n",
      "1 x 9 = 63\n",
      " == 8단 ==\n",
      "1 x 1 = 8\n",
      "1 x 2 = 16\n",
      "1 x 3 = 24\n",
      "1 x 4 = 32\n",
      "1 x 5 = 40\n",
      "1 x 6 = 48\n",
      "1 x 7 = 56\n",
      "1 x 8 = 64\n",
      "1 x 9 = 72\n"
     ]
    }
   ],
   "source": [
    "n = int(input())\n",
    "for i in range(1, n+1):\n",
    "    print(f' == {i}단 ==')\n",
    "    for j in range(1, 10):\n",
    "        print(f'{1} x {j} = {i * j}')"
   ]
  },
  {
   "cell_type": "code",
   "execution_count": 11,
   "id": "9099150f-7993-4ca1-8868-5518cbdf6dae",
   "metadata": {},
   "outputs": [
    {
     "name": "stdin",
     "output_type": "stream",
     "text": [
      "시작:  1\n",
      "끝:  9\n"
     ]
    },
    {
     "name": "stdout",
     "output_type": "stream",
     "text": [
      "== 1단 ==\n",
      "1 x 1 = 1\n",
      "1 x 2 = 2\n",
      "1 x 3 = 3\n",
      "1 x 4 = 4\n",
      "1 x 5 = 5\n",
      "1 x 6 = 6\n",
      "1 x 7 = 7\n",
      "1 x 8 = 8\n",
      "1 x 9 = 9\n",
      "== 2단 ==\n",
      "2 x 1 = 2\n",
      "2 x 2 = 4\n",
      "2 x 3 = 6\n",
      "2 x 4 = 8\n",
      "2 x 5 = 10\n",
      "2 x 6 = 12\n",
      "2 x 7 = 14\n",
      "2 x 8 = 16\n",
      "2 x 9 = 18\n",
      "== 3단 ==\n",
      "3 x 1 = 3\n",
      "3 x 2 = 6\n",
      "3 x 3 = 9\n",
      "3 x 4 = 12\n",
      "3 x 5 = 15\n",
      "3 x 6 = 18\n",
      "3 x 7 = 21\n",
      "3 x 8 = 24\n",
      "3 x 9 = 27\n",
      "== 4단 ==\n",
      "4 x 1 = 4\n",
      "4 x 2 = 8\n",
      "4 x 3 = 12\n",
      "4 x 4 = 16\n",
      "4 x 5 = 20\n",
      "4 x 6 = 24\n",
      "4 x 7 = 28\n",
      "4 x 8 = 32\n",
      "4 x 9 = 36\n",
      "== 5단 ==\n",
      "5 x 1 = 5\n",
      "5 x 2 = 10\n",
      "5 x 3 = 15\n",
      "5 x 4 = 20\n",
      "5 x 5 = 25\n",
      "5 x 6 = 30\n",
      "5 x 7 = 35\n",
      "5 x 8 = 40\n",
      "5 x 9 = 45\n",
      "== 6단 ==\n",
      "6 x 1 = 6\n",
      "6 x 2 = 12\n",
      "6 x 3 = 18\n",
      "6 x 4 = 24\n",
      "6 x 5 = 30\n",
      "6 x 6 = 36\n",
      "6 x 7 = 42\n",
      "6 x 8 = 48\n",
      "6 x 9 = 54\n",
      "== 7단 ==\n",
      "7 x 1 = 7\n",
      "7 x 2 = 14\n",
      "7 x 3 = 21\n",
      "7 x 4 = 28\n",
      "7 x 5 = 35\n",
      "7 x 6 = 42\n",
      "7 x 7 = 49\n",
      "7 x 8 = 56\n",
      "7 x 9 = 63\n",
      "== 8단 ==\n",
      "8 x 1 = 8\n",
      "8 x 2 = 16\n",
      "8 x 3 = 24\n",
      "8 x 4 = 32\n",
      "8 x 5 = 40\n",
      "8 x 6 = 48\n",
      "8 x 7 = 56\n",
      "8 x 8 = 64\n",
      "8 x 9 = 72\n",
      "== 9단 ==\n",
      "9 x 1 = 9\n",
      "9 x 2 = 18\n",
      "9 x 3 = 27\n",
      "9 x 4 = 36\n",
      "9 x 5 = 45\n",
      "9 x 6 = 54\n",
      "9 x 7 = 63\n",
      "9 x 8 = 72\n",
      "9 x 9 = 81\n"
     ]
    }
   ],
   "source": [
    "while True:\n",
    "    n_s = int(input('시작: '))\n",
    "    n_e = int(input('끝: '))\n",
    "    \n",
    "    if n_s > 9 or n_s < 1 or n_e > 9 or n_e < 1:\n",
    "        print('1부터 9까지의 수만 입력해주세요.')\n",
    "    elif n_s > n_e:\n",
    "        print('시작단이 끝단보다 깁니다.')\n",
    "    else:\n",
    "        for i in range(n_s, n_e + 1):\n",
    "            print(f'== {i}단 ==')\n",
    "            for j in range(1, 10):\n",
    "                print(f'{i} x {j} = {i * j}')\n",
    "        break"
   ]
  },
  {
   "cell_type": "code",
   "execution_count": 18,
   "id": "e95ae32f-d42e-481e-808f-aee276531370",
   "metadata": {},
   "outputs": [
    {
     "name": "stdout",
     "output_type": "stream",
     "text": [
      "=== MENU ===\n",
      "    1. n단을 출력하기\n",
      "    2. 1단부터 n단까지 출력하기\n",
      "    3. n단부터 m단까지 출력하기\n",
      "    4. 프로그램 종료\n"
     ]
    },
    {
     "name": "stdin",
     "output_type": "stream",
     "text": [
      "MENU 중 원하는 항목의 번호를 입력하세요:  3\n",
      "시작할 단을 입력해주세요:  2\n",
      "끝낼 단을 입력해주세요:  5\n"
     ]
    },
    {
     "name": "stdout",
     "output_type": "stream",
     "text": [
      "== 2단 ==\n",
      "2 x 1 = 2\n",
      "2 x 2 = 4\n",
      "2 x 3 = 6\n",
      "2 x 4 = 8\n",
      "2 x 5 = 10\n",
      "2 x 6 = 12\n",
      "2 x 7 = 14\n",
      "2 x 8 = 16\n",
      "2 x 9 = 18\n",
      "== 3단 ==\n",
      "3 x 1 = 3\n",
      "3 x 2 = 6\n",
      "3 x 3 = 9\n",
      "3 x 4 = 12\n",
      "3 x 5 = 15\n",
      "3 x 6 = 18\n",
      "3 x 7 = 21\n",
      "3 x 8 = 24\n",
      "3 x 9 = 27\n",
      "== 4단 ==\n",
      "4 x 1 = 4\n",
      "4 x 2 = 8\n",
      "4 x 3 = 12\n",
      "4 x 4 = 16\n",
      "4 x 5 = 20\n",
      "4 x 6 = 24\n",
      "4 x 7 = 28\n",
      "4 x 8 = 32\n",
      "4 x 9 = 36\n",
      "== 5단 ==\n",
      "5 x 1 = 5\n",
      "5 x 2 = 10\n",
      "5 x 3 = 15\n",
      "5 x 4 = 20\n",
      "5 x 5 = 25\n",
      "5 x 6 = 30\n",
      "5 x 7 = 35\n",
      "5 x 8 = 40\n",
      "5 x 9 = 45\n",
      "=== MENU ===\n",
      "    1. n단을 출력하기\n",
      "    2. 1단부터 n단까지 출력하기\n",
      "    3. n단부터 m단까지 출력하기\n",
      "    4. 프로그램 종료\n"
     ]
    },
    {
     "name": "stdin",
     "output_type": "stream",
     "text": [
      "MENU 중 원하는 항목의 번호를 입력하세요:  4\n"
     ]
    },
    {
     "name": "stdout",
     "output_type": "stream",
     "text": [
      "프로그램을 종료합니다.\n"
     ]
    }
   ],
   "source": [
    "while True:\n",
    "    print('''=== MENU ===\n",
    "    1. n단을 출력하기\n",
    "    2. 1단부터 n단까지 출력하기\n",
    "    3. n단부터 m단까지 출력하기\n",
    "    4. 프로그램 종료''')\n",
    "    \n",
    "    menu = int(input('MENU 중 원하는 항목의 번호를 입력하세요: '))\n",
    "    \n",
    "    if not 0 < menu < 5:\n",
    "        while True:\n",
    "            n = int(input('단을 입력해주세요: '))\n",
    "            if not 0 < n < 10:\n",
    "                print('MENU에 없는 번호입니다. 다시 입력해주세요.')\n",
    "    elif menu == 1:\n",
    "        while True:\n",
    "                    n = int(input('단을 입력해주세요: '))\n",
    "                    if not 0 < n < 10:\n",
    "                        print('1부터 9까지의 수만 입력해주세요.')\n",
    "                    else:\n",
    "                        print(f'=== {n}단 ===')\n",
    "                        for i in range(1, 10):\n",
    "                            print(f'{n} x {i} = {n * i}')\n",
    "                        break\n",
    "    elif menu == 2:\n",
    "        while True:\n",
    "            n = int(input('단을 입력해주세요: '))\n",
    "            if not 0 < n < 10:\n",
    "                print('1부터 9까지의 수만 입력해주세요.')\n",
    "            else:\n",
    "                for i in range(1, n+1):\n",
    "                    print(f'== {i}단 ==')\n",
    "                    for j in range(1, 10):\n",
    "                        print(f'{i} x {j} = {i * j}')\n",
    "                break\n",
    "                    \n",
    "    elif menu == 3:\n",
    "        while True:\n",
    "            ns = int(input('시작할 단을 입력해주세요: '))\n",
    "            ne = int(input('끝낼 단을 입력해주세요: '))\n",
    "            if not 0 < ns < 10 or not 0 < ne <10:\n",
    "                print('1부터 9까지의 수만 입력해주세요.')\n",
    "            elif ns > ne:\n",
    "                print('시작할 단의 숫자가 끝낼 단의 숫자보다 높습니다.')\n",
    "            else:\n",
    "                for i in range(ns, ne + 1):\n",
    "                    print(f'== {i}단 ==')\n",
    "                    for j in range(1, 10):\n",
    "                        print(f'{i} x {j} = {i * j}')\n",
    "                break\n",
    "    else:\n",
    "        print('프로그램을 종료합니다.')\n",
    "        break"
   ]
  },
  {
   "cell_type": "markdown",
   "id": "c86105f8-5d4a-42d8-8da5-fa8319c30a16",
   "metadata": {},
   "source": [
    "### print formatting\n",
    "- 1. f string\n",
    "    - f, F 모두 사용 가능\n",
    "    - f'{var}'\n",
    "- 2. format\n",
    "    - '{}'.format(var)\n",
    "- 3. %\n",
    "    - ' %type ' % var\n",
    "      - 문자열은 s, 정수는 d, 실수는 f를 type위치에 작성\n",
    "\n",
    "- print('', a, '', b)"
   ]
  },
  {
   "cell_type": "code",
   "execution_count": 20,
   "id": "b60b51ca-0509-46a6-a57c-e2ee244be634",
   "metadata": {},
   "outputs": [
    {
     "name": "stdout",
     "output_type": "stream",
     "text": [
      "나의 이름은 lee!!!!\n"
     ]
    }
   ],
   "source": [
    "name = 'lee'\n",
    "print(f'나의 이름은 {name}!!!!')"
   ]
  },
  {
   "cell_type": "code",
   "execution_count": 21,
   "id": "80ad3026-79d0-4dc0-8826-d9a5b60216cc",
   "metadata": {},
   "outputs": [
    {
     "name": "stdout",
     "output_type": "stream",
     "text": [
      "너의 이름은 junsu ???\n"
     ]
    }
   ],
   "source": [
    "name = 'junsu'\n",
    "print('너의 이름은 {} ???'.format(name)) # 소수점 출력 시 활용"
   ]
  },
  {
   "cell_type": "code",
   "execution_count": 22,
   "id": "358c13ba-991d-47b2-b670-4828f91a36e9",
   "metadata": {},
   "outputs": [
    {
     "name": "stdout",
     "output_type": "stream",
     "text": [
      "나의 이름은 junsu 입니다.\n"
     ]
    }
   ],
   "source": [
    "# '%' 이용\n",
    "# 가장 오래된 방법\n",
    "name = 'junsu'\n",
    "print('나의 이름은 %s 입니다.' %(name))"
   ]
  },
  {
   "cell_type": "markdown",
   "id": "9d7932ba-3af1-49b1-b69e-f90d3c39f360",
   "metadata": {},
   "source": [
    "### NLTK: Corpus\n",
    "- 더 다양한 언어 분석이 가능\n",
    "- gutenberg\n",
    "- brown\n",
    "- inaugural\n",
    "\n",
    "#### Corpus 함수\n",
    "- words()\n",
    "- sents()\n",
    "- fileids()\n",
    "- raw()"
   ]
  },
  {
   "cell_type": "code",
   "execution_count": 24,
   "id": "d6807a8d-5e30-41be-b4bc-664885a6d6d8",
   "metadata": {},
   "outputs": [
    {
     "data": {
      "text/plain": [
       "True"
      ]
     },
     "execution_count": 24,
     "metadata": {},
     "output_type": "execute_result"
    }
   ],
   "source": [
    "import nltk\n",
    "from nltk.corpus import gutenberg\n",
    "nltk.download('gutenberg', quiet=True)"
   ]
  },
  {
   "cell_type": "code",
   "execution_count": 25,
   "id": "7a93ffdb-98aa-49c2-a854-ec69f75a9934",
   "metadata": {},
   "outputs": [
    {
     "data": {
      "text/plain": [
       "['[', 'Emma', 'by', 'Jane', 'Austen', '1816', ']', ...]"
      ]
     },
     "execution_count": 25,
     "metadata": {},
     "output_type": "execute_result"
    }
   ],
   "source": [
    "gutenberg.words()"
   ]
  },
  {
   "cell_type": "code",
   "execution_count": 26,
   "id": "6cb24233-62d1-40ed-b2b9-48417e6386b7",
   "metadata": {},
   "outputs": [
    {
     "data": {
      "text/plain": [
       "[['[', 'Emma', 'by', 'Jane', 'Austen', '1816', ']'], ['VOLUME', 'I'], ...]"
      ]
     },
     "execution_count": 26,
     "metadata": {},
     "output_type": "execute_result"
    }
   ],
   "source": [
    "gutenberg.sents()"
   ]
  },
  {
   "cell_type": "code",
   "execution_count": 27,
   "id": "8262dd57-31ce-4c2f-97b6-24dd2f4a586e",
   "metadata": {},
   "outputs": [
    {
     "data": {
      "text/plain": [
       "['austen-emma.txt',\n",
       " 'austen-persuasion.txt',\n",
       " 'austen-sense.txt',\n",
       " 'bible-kjv.txt',\n",
       " 'blake-poems.txt',\n",
       " 'bryant-stories.txt',\n",
       " 'burgess-busterbrown.txt',\n",
       " 'carroll-alice.txt',\n",
       " 'chesterton-ball.txt',\n",
       " 'chesterton-brown.txt',\n",
       " 'chesterton-thursday.txt',\n",
       " 'edgeworth-parents.txt',\n",
       " 'melville-moby_dick.txt',\n",
       " 'milton-paradise.txt',\n",
       " 'shakespeare-caesar.txt',\n",
       " 'shakespeare-hamlet.txt',\n",
       " 'shakespeare-macbeth.txt',\n",
       " 'whitman-leaves.txt']"
      ]
     },
     "execution_count": 27,
     "metadata": {},
     "output_type": "execute_result"
    }
   ],
   "source": [
    "gutenberg.fileids()"
   ]
  },
  {
   "cell_type": "code",
   "execution_count": 28,
   "id": "1d873791-1baa-44c2-9f12-762228c6622f",
   "metadata": {},
   "outputs": [
    {
     "name": "stdout",
     "output_type": "stream",
     "text": [
      "austen-emma / 글자 수 = 887071개, 단어 수 = 7752개\n",
      "austen-persuasion / 글자 수 = 466292개, 단어 수 = 3747개\n",
      "austen-sense / 글자 수 = 673022개, 단어 수 = 4999개\n",
      "bible-kjv / 글자 수 = 4332554개, 단어 수 = 30103개\n",
      "blake-poems / 글자 수 = 38153개, 단어 수 = 438개\n",
      "bryant-stories / 글자 수 = 249439개, 단어 수 = 2863개\n",
      "burgess-busterbrown / 글자 수 = 84663개, 단어 수 = 1054개\n",
      "carroll-alice / 글자 수 = 144395개, 단어 수 = 1703개\n",
      "chesterton-ball / 글자 수 = 457450개, 단어 수 = 4779개\n",
      "chesterton-brown / 글자 수 = 406629개, 단어 수 = 3806개\n",
      "chesterton-thursday / 글자 수 = 320525개, 단어 수 = 3742개\n",
      "edgeworth-parents / 글자 수 = 935158개, 단어 수 = 10230개\n",
      "melville-moby_dick / 글자 수 = 1242990개, 단어 수 = 10059개\n",
      "milton-paradise / 글자 수 = 468220개, 단어 수 = 1851개\n",
      "shakespeare-caesar / 글자 수 = 112310개, 단어 수 = 2163개\n",
      "shakespeare-hamlet / 글자 수 = 162881개, 단어 수 = 3106개\n",
      "shakespeare-macbeth / 글자 수 = 100351개, 단어 수 = 1907개\n",
      "whitman-leaves / 글자 수 = 711215개, 단어 수 = 4250개\n"
     ]
    }
   ],
   "source": [
    "# 구텐버그의 각 파일을 돌아가며 글자 수, 단어 수, 문장 수를 출력한다.\n",
    "for text in gutenberg.fileids():\n",
    "    print(f'{text[:-4]} / 글자 수 = {len(gutenberg.raw(text))}개, 단어 수 = {len(gutenberg.sents(text))}개')  "
   ]
  },
  {
   "cell_type": "markdown",
   "id": "3d23530e-cfd6-4d81-a2d1-66449771bc09",
   "metadata": {},
   "source": [
    "### Corpus - Brown\n",
    "\n",
    "- categories(): text들의 카테고리(장르) 표시"
   ]
  },
  {
   "cell_type": "code",
   "execution_count": 29,
   "id": "37d346d4-b205-4fca-99d0-4f288465b9e5",
   "metadata": {},
   "outputs": [
    {
     "name": "stderr",
     "output_type": "stream",
     "text": [
      "[nltk_data] Downloading package brown to\n",
      "[nltk_data]     C:\\Users\\samsung\\AppData\\Roaming\\nltk_data...\n",
      "[nltk_data]   Package brown is already up-to-date!\n"
     ]
    }
   ],
   "source": [
    "nltk.download('brown')\n",
    "brown_corpus = nltk.corpus.brown"
   ]
  },
  {
   "cell_type": "code",
   "execution_count": 30,
   "id": "c88c730f-5e43-49e9-84f3-b87cf4cb24d1",
   "metadata": {},
   "outputs": [
    {
     "data": {
      "text/plain": [
       "['adventure',\n",
       " 'belles_lettres',\n",
       " 'editorial',\n",
       " 'fiction',\n",
       " 'government',\n",
       " 'hobbies',\n",
       " 'humor',\n",
       " 'learned',\n",
       " 'lore',\n",
       " 'mystery',\n",
       " 'news',\n",
       " 'religion',\n",
       " 'reviews',\n",
       " 'romance',\n",
       " 'science_fiction']"
      ]
     },
     "execution_count": 30,
     "metadata": {},
     "output_type": "execute_result"
    }
   ],
   "source": [
    "brown_corpus.categories()"
   ]
  },
  {
   "cell_type": "code",
   "execution_count": 31,
   "id": "43c3289b-59e1-4029-9f62-b269b6a61e92",
   "metadata": {},
   "outputs": [
    {
     "name": "stdout",
     "output_type": "stream",
     "text": [
      "can 17\n",
      "could 33\n",
      "may 8\n",
      "might 8\n",
      "will 13\n",
      "would 56\n"
     ]
    }
   ],
   "source": [
    "#modal verb 사용 횟수\n",
    "\n",
    "humor = brown_corpus.words(categories='humor')\n",
    "modals = ['can', 'could', 'may', 'might', 'will', 'would']\n",
    "\n",
    "fdist_brown = nltk.FreqDist([w.lower() for w in humor])\n",
    "\n",
    "for verb in modals:\n",
    "    print(verb, fdist_brown[verb])"
   ]
  },
  {
   "cell_type": "code",
   "execution_count": 32,
   "id": "95cc3bc3-b10a-4379-9669-fd073cb1de8c",
   "metadata": {},
   "outputs": [],
   "source": [
    "### Conditional frequency distribution(CFD)"
   ]
  },
  {
   "cell_type": "code",
   "execution_count": 33,
   "id": "920d93f3-eb00-40b9-aaef-1e7776bc068d",
   "metadata": {},
   "outputs": [],
   "source": [
    "cfd = nltk.ConditionalFreqDist(\n",
    "    (genre, word.lower())\n",
    "    for genre in brown_corpus.categories()\n",
    "    for word in brown_corpus.words(categories=genre)\n",
    ")"
   ]
  },
  {
   "cell_type": "code",
   "execution_count": 34,
   "id": "016cc94e-3368-4c0d-bd78-fb21447da170",
   "metadata": {},
   "outputs": [
    {
     "data": {
      "text/plain": [
       "[('.', 4057),\n",
       " ('the', 3780),\n",
       " (',', 3488),\n",
       " ('and', 1706),\n",
       " ('a', 1432),\n",
       " ('of', 1327),\n",
       " ('to', 1322),\n",
       " ('he', 1283),\n",
       " ('``', 998),\n",
       " (\"''\", 995)]"
      ]
     },
     "execution_count": 34,
     "metadata": {},
     "output_type": "execute_result"
    }
   ],
   "source": [
    "cfd['adventure'].most_common(10)"
   ]
  },
  {
   "cell_type": "code",
   "execution_count": 35,
   "id": "c5fc1678-94ec-4ce5-b22c-74f0a404f3ad",
   "metadata": {},
   "outputs": [
    {
     "name": "stdout",
     "output_type": "stream",
     "text": [
      "                 can could   may might  will would \n",
      "     adventure    48   154     7    59    51   194 \n",
      "belles_lettres   249   216   221   113   246   397 \n",
      "     editorial   124    57    79    39   235   185 \n"
     ]
    }
   ],
   "source": [
    "cfd.tabulate(conditions=brown_corpus.categories()[:3], samples=modals)"
   ]
  },
  {
   "cell_type": "code",
   "execution_count": null,
   "id": "d32c9119-2471-48aa-b748-b79f04d6df4a",
   "metadata": {},
   "outputs": [],
   "source": []
  }
 ],
 "metadata": {
  "kernelspec": {
   "display_name": "Python 3 (ipykernel)",
   "language": "python",
   "name": "python3"
  },
  "language_info": {
   "codemirror_mode": {
    "name": "ipython",
    "version": 3
   },
   "file_extension": ".py",
   "mimetype": "text/x-python",
   "name": "python",
   "nbconvert_exporter": "python",
   "pygments_lexer": "ipython3",
   "version": "3.9.7"
  }
 },
 "nbformat": 4,
 "nbformat_minor": 5
}
