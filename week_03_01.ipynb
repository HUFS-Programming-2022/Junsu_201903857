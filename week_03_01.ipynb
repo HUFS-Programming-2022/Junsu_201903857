{
 "cells": [
  {
   "cell_type": "markdown",
   "id": "50b5d66c-2506-43f6-bdec-0b92b4fc81f3",
   "metadata": {},
   "source": [
    "# 중첩조건문\n",
    "\n",
    "  - if 블록 안에 또다른 if 블록이 있는 경우\n",
    "  - 들여쓰기로 논리를 구분한다."
   ]
  },
  {
   "cell_type": "code",
   "execution_count": 2,
   "id": "a6a26fb9-85bd-47d1-a180-33a403195d96",
   "metadata": {},
   "outputs": [
    {
     "name": "stdout",
     "output_type": "stream",
     "text": [
      "Block B\n"
     ]
    }
   ],
   "source": [
    "x = 0\n",
    "y = 1\n",
    "\n",
    "if x == y:\n",
    "    print(\"Block A\")\n",
    "else:\n",
    "    if x < y:\n",
    "        print(\"Block B\")\n",
    "    else:\n",
    "        print(\"Block C\")\n",
    "\n",
    "# 0 < x < 10"
   ]
  },
  {
   "cell_type": "code",
   "execution_count": 3,
   "id": "75902d01-44d0-45eb-8f80-ea625df99828",
   "metadata": {},
   "outputs": [
    {
     "name": "stdout",
     "output_type": "stream",
     "text": [
      "Block C\n"
     ]
    }
   ],
   "source": [
    "if x > 0:\n",
    "    if x < 10:\n",
    "        print(\"Block A\")\n",
    "    else:\n",
    "        print(\"Block B\")\n",
    "else:\n",
    "    print(\"Block C\")\n",
    "    \n",
    "# 0 < x < 10"
   ]
  },
  {
   "cell_type": "raw",
   "id": "3053c90f-996a-4d8a-bdd8-b3c284439206",
   "metadata": {},
   "source": [
    "if x == y:\n",
    "    # block a\n",
    "elif x < y:\n",
    "    # block b\n",
    "else:\n",
    "    # block c"
   ]
  },
  {
   "cell_type": "markdown",
   "id": "ab8abf1b-6b95-4833-ac2b-95249a031bec",
   "metadata": {
    "tags": []
   },
   "source": [
    "#### 방법 1\n",
    "if (x > 0) and (x < 10): # 논리연산자\n",
    "    # block a\n",
    "else:\n",
    "    # block b\n",
    "    \n",
    "#### 방법 2\n",
    "if 0 < x < 10:\n",
    "    # block a\n",
    "else:\n",
    "    # block b"
   ]
  },
  {
   "cell_type": "markdown",
   "id": "35573f4b-b871-4af0-b243-5240c03439c3",
   "metadata": {},
   "source": [
    "### 논리연산자\n",
    "  - 비교연산자가 여러 번 사용될 때 사용하는 것\n",
    "  - and, or, not\n",
    "    - A and B: A도 참이고, B도 참일 경우 True\n",
    "    - A or B: A 혹은 B, 둘 중 하나만 참일 경우 True\n",
    "    - not A: A가 False일 때 True, A가 True일 때 False를 반환\n",
    "  - 비교연산자의 괄호는 가독성을 위해 사용한다(Optional)\n",
    "  - 파이썬에서만 가능한 표현: 0 < x < 10\n",
    " "
   ]
  },
  {
   "cell_type": "markdown",
   "id": "3f000d4f-18ce-414d-9da1-c10c75715198",
   "metadata": {},
   "source": [
    "### Ture, False\n",
    "\n",
    "  - \"만약 A가 참이라면....\"\n",
    "  - a=True"
   ]
  },
  {
   "cell_type": "raw",
   "id": "b19ed47e-1561-44f0-93fa-83912bcefb62",
   "metadata": {},
   "source": [
    "if a == True:\n",
    "    print() # 오답\n",
    "\n",
    "if a:\n",
    "    print() # 정답"
   ]
  },
  {
   "cell_type": "markdown",
   "id": "0afd0b0c-0bc1-4ebf-8747-87855e6b5831",
   "metadata": {},
   "source": [
    "### in / not in\n",
    "  - membership operator\n",
    "  - 어떤 요소가 그 안에 있는지 확인하고 싶다.\n",
    "  - 비슷한 조건이 여러 번 반복될 때 사용 가능"
   ]
  },
  {
   "cell_type": "code",
   "execution_count": 4,
   "id": "f3858cd4-045c-4cad-ba84-200fa787c394",
   "metadata": {},
   "outputs": [
    {
     "name": "stdout",
     "output_type": "stream",
     "text": [
      "No\n"
     ]
    }
   ],
   "source": [
    "letter = 'abcde'\n",
    "\n",
    "# letter에 모음이 있는지 없는지 확인하려 한다. : a, e, i, o, u\n",
    "# if letter == 'a' or letter == 'b'\n",
    "\n",
    "if letter in ['a', 'e', 'i', 'o', 'u']: #리스트 요소에 letter와 일치하는 것이 있는가\n",
    "    print(\"Yes\")\n",
    "else:\n",
    "    print(\"No\")"
   ]
  },
  {
   "cell_type": "code",
   "execution_count": 5,
   "id": "ea051e36-8cfc-49f3-b663-6e7a6775086e",
   "metadata": {},
   "outputs": [
    {
     "name": "stdout",
     "output_type": "stream",
     "text": [
      "yes\n"
     ]
    }
   ],
   "source": [
    "word = 'abcde'\n",
    "\n",
    "if 'a' or 'b' or 'c' or 'd' or 'e' in word:\n",
    "    print('yes')\n",
    "else:\n",
    "    print('no')"
   ]
  },
  {
   "cell_type": "code",
   "execution_count": 8,
   "id": "fac3ad9b-7ebc-4ecd-b298-5fc35ce01caf",
   "metadata": {},
   "outputs": [
    {
     "name": "stdout",
     "output_type": "stream",
     "text": [
      "No\n"
     ]
    }
   ],
   "source": [
    "vowel = 'a', 'e', 'i', 'o', 'u'\n",
    "#type(vowel)\n",
    "if vowel in ['a', 'b', 'c', 'd', 'e']:\n",
    "    print(\"Yes\")\n",
    "else:\n",
    "    print(\"No\")"
   ]
  },
  {
   "cell_type": "markdown",
   "id": "26b0a869-47aa-4de4-9aad-3d0b91adb210",
   "metadata": {},
   "source": [
    "### 바다코끼리 연산자\n",
    "  - walus operator\n",
    "  - 할당과 테스트를 동시에 하는 기능\n",
    "  - :="
   ]
  },
  {
   "cell_type": "code",
   "execution_count": 9,
   "id": "4afdb249-903d-4c5f-bfbf-9911d2eda448",
   "metadata": {},
   "outputs": [
    {
     "data": {
      "text/plain": [
       "'blahblahblahblahblahblahblahblahblahblahblahblahblahblahblahblahblahblahblahblahblahblahblahblahblahblahblahblahblahblahblahblahblahblahblahblahblahblahblahblahblahblahblahblahblahblahblahblahblahblah'"
      ]
     },
     "execution_count": 9,
     "metadata": {},
     "output_type": "execute_result"
    }
   ],
   "source": [
    "tweet_limit = 200\n",
    "tweet_string = 'blah' * 50 # 공백 없이 스트링 4*50개\n",
    "tweet_string"
   ]
  },
  {
   "cell_type": "code",
   "execution_count": 11,
   "id": "a8ac9b92-e1ab-4f26-ac3d-a5e0ec2eb245",
   "metadata": {},
   "outputs": [
    {
     "name": "stdout",
     "output_type": "stream",
     "text": [
      "불가능\n"
     ]
    }
   ],
   "source": [
    "diff = tweet_limit - len(tweet_string)\n",
    "if diff > 0:\n",
    "    print(\"가능\")\n",
    "else:\n",
    "    print(\"불가능\")"
   ]
  },
  {
   "cell_type": "code",
   "execution_count": 17,
   "id": "d5496dd0-d5a5-43ee-904b-167dd4d2aa7c",
   "metadata": {},
   "outputs": [
    {
     "name": "stdout",
     "output_type": "stream",
     "text": [
      "불가능\n"
     ]
    }
   ],
   "source": [
    "if diff := tweet_limit - len(tweet_string) > 0:\n",
    "    print(\"가능\")\n",
    "else:\n",
    "    print(\"불가능\")"
   ]
  },
  {
   "cell_type": "markdown",
   "id": "fd3517ba-e15b-4444-99d8-9b6359c4dc59",
   "metadata": {},
   "source": [
    "### Quiz\n",
    "- 윤년을 구하는 코드를 짜 보자\n",
    "  - 연도가 4로 나뉘어 떨어지면 윤년\n",
    "  - 100으로 나뉘어 떨어져서는 안 된다.\n",
    "  - 400으로 나뉘어 떨어져도 된다.\n",
    "\n",
    "- year를 입력받는다.\n",
    "- 출력: '{}년은 윤년입니다'/\"{}년은 윤년이 아닙니다.\""
   ]
  },
  {
   "cell_type": "code",
   "execution_count": 27,
   "id": "06215d96-9f14-4b3a-bff4-1d50553b3788",
   "metadata": {},
   "outputs": [
    {
     "name": "stdin",
     "output_type": "stream",
     "text": [
      " 4800\n"
     ]
    },
    {
     "name": "stdout",
     "output_type": "stream",
     "text": [
      "4800년은 윤년입니다\n"
     ]
    }
   ],
   "source": [
    "year = int(input())\n",
    "\n",
    "if (year%4 == 0) and (year%100 != 0) or (year%400 == 0):\n",
    "    print(f'{year}년은 윤년입니다')\n",
    "else:\n",
    "    print(f\"{year}년은 윤년이 아닙니다.\")"
   ]
  }
 ],
 "metadata": {
  "kernelspec": {
   "display_name": "Python 3 (ipykernel)",
   "language": "python",
   "name": "python3"
  },
  "language_info": {
   "codemirror_mode": {
    "name": "ipython",
    "version": 3
   },
   "file_extension": ".py",
   "mimetype": "text/x-python",
   "name": "python",
   "nbconvert_exporter": "python",
   "pygments_lexer": "ipython3",
   "version": "3.9.7"
  }
 },
 "nbformat": 4,
 "nbformat_minor": 5
}
