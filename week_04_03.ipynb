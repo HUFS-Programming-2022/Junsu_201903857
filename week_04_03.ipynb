{
 "cells": [
  {
   "cell_type": "code",
   "execution_count": 1,
   "id": "ea435362-830d-4f73-aa32-4e8f2a77e16f",
   "metadata": {},
   "outputs": [
    {
     "data": {
      "text/plain": [
       "True"
      ]
     },
     "execution_count": 1,
     "metadata": {},
     "output_type": "execute_result"
    }
   ],
   "source": [
    "import nltk\n",
    "nltk.download('book', quiet=True)"
   ]
  },
  {
   "cell_type": "code",
   "execution_count": 3,
   "id": "5e7f26e9-f5d2-4f41-93d0-2008e9102141",
   "metadata": {},
   "outputs": [
    {
     "name": "stdout",
     "output_type": "stream",
     "text": [
      "*** Introductory Examples for the NLTK Book ***\n",
      "Loading text1, ..., text9 and sent1, ..., sent9\n",
      "Type the name of the text or sentence to view it.\n",
      "Type: 'texts()' or 'sents()' to list the materials.\n",
      "text1: Moby Dick by Herman Melville 1851\n",
      "text2: Sense and Sensibility by Jane Austen 1811\n",
      "text3: The Book of Genesis\n",
      "text4: Inaugural Address Corpus\n",
      "text5: Chat Corpus\n",
      "text6: Monty Python and the Holy Grail\n",
      "text7: Wall Street Journal\n",
      "text8: Personals Corpus\n",
      "text9: The Man Who Was Thursday by G . K . Chesterton 1908\n"
     ]
    }
   ],
   "source": [
    "from nltk import book"
   ]
  },
  {
   "cell_type": "code",
   "execution_count": 5,
   "id": "0bde6104-8436-405b-9394-f889a31334c1",
   "metadata": {},
   "outputs": [],
   "source": [
    "moby = book.text1"
   ]
  },
  {
   "cell_type": "code",
   "execution_count": 6,
   "id": "a383300f-28c6-477d-bb68-f01c32dd0c86",
   "metadata": {},
   "outputs": [
    {
     "data": {
      "text/plain": [
       "0.07406285585022564"
      ]
     },
     "execution_count": 6,
     "metadata": {},
     "output_type": "execute_result"
    }
   ],
   "source": [
    "len(set(moby.tokens)) / len(moby.tokens)"
   ]
  },
  {
   "cell_type": "code",
   "execution_count": 8,
   "id": "75b1def9-ddf0-4406-bfb0-0ff338f6db11",
   "metadata": {},
   "outputs": [],
   "source": [
    "sense = book.text2"
   ]
  },
  {
   "cell_type": "code",
   "execution_count": 9,
   "id": "a7cd13db-9c38-4715-91b4-3b0d06242534",
   "metadata": {},
   "outputs": [
    {
     "data": {
      "text/plain": [
       "0.04826383002768831"
      ]
     },
     "execution_count": 9,
     "metadata": {},
     "output_type": "execute_result"
    }
   ],
   "source": [
    "len(set(sense.tokens)) / len(sense.tokens)"
   ]
  },
  {
   "cell_type": "code",
   "execution_count": 10,
   "id": "5908cb5d-401a-4ca7-8173-4c8a7443e569",
   "metadata": {},
   "outputs": [],
   "source": [
    "genesis = book.text3"
   ]
  },
  {
   "cell_type": "code",
   "execution_count": 11,
   "id": "3f4d17b1-8afd-4b10-9d84-b732f11ab1e3",
   "metadata": {},
   "outputs": [
    {
     "data": {
      "text/plain": [
       "0.06230453042623537"
      ]
     },
     "execution_count": 11,
     "metadata": {},
     "output_type": "execute_result"
    }
   ],
   "source": [
    "len(set(genesis.tokens)) / len(genesis.tokens)"
   ]
  },
  {
   "cell_type": "code",
   "execution_count": 12,
   "id": "732ddf53-57a2-4559-925a-7b3409f4ea60",
   "metadata": {},
   "outputs": [],
   "source": [
    "corpus = book.text4"
   ]
  },
  {
   "cell_type": "code",
   "execution_count": 13,
   "id": "b1e57714-dc84-457f-8cbc-09a18b880dd5",
   "metadata": {},
   "outputs": [
    {
     "data": {
      "text/plain": [
       "0.06556530042314962"
      ]
     },
     "execution_count": 13,
     "metadata": {},
     "output_type": "execute_result"
    }
   ],
   "source": [
    "len(set(corpus.tokens)) / len(corpus.tokens)"
   ]
  },
  {
   "cell_type": "code",
   "execution_count": 14,
   "id": "5051421e-29cd-4ab4-9198-b1daf7c2260e",
   "metadata": {},
   "outputs": [],
   "source": [
    "chatcorpus = book.text5"
   ]
  },
  {
   "cell_type": "code",
   "execution_count": 15,
   "id": "c7ff1a0f-255e-48eb-8933-a5e18d2bafcb",
   "metadata": {},
   "outputs": [
    {
     "data": {
      "text/plain": [
       "0.13477005109975562"
      ]
     },
     "execution_count": 15,
     "metadata": {},
     "output_type": "execute_result"
    }
   ],
   "source": [
    "len(set(chatcorpus.tokens)) / len(chatcorpus.tokens)"
   ]
  },
  {
   "cell_type": "code",
   "execution_count": 16,
   "id": "00cdb755-2b95-4368-af6c-8a02ce20a65a",
   "metadata": {},
   "outputs": [],
   "source": [
    "holygrail = book.text6"
   ]
  },
  {
   "cell_type": "code",
   "execution_count": 17,
   "id": "fe219006-57c4-4653-99f1-d7d270fa91d8",
   "metadata": {},
   "outputs": [
    {
     "data": {
      "text/plain": [
       "0.1276595744680851"
      ]
     },
     "execution_count": 17,
     "metadata": {},
     "output_type": "execute_result"
    }
   ],
   "source": [
    "len(set(holygrail.tokens)) / len(holygrail.tokens)"
   ]
  },
  {
   "cell_type": "code",
   "execution_count": 18,
   "id": "d57c9d60-ca1f-459f-a623-d4dd4c8531f1",
   "metadata": {},
   "outputs": [],
   "source": [
    "wsj = book.text7"
   ]
  },
  {
   "cell_type": "code",
   "execution_count": 19,
   "id": "b632733b-7515-472b-aa09-49d4f82a4628",
   "metadata": {},
   "outputs": [
    {
     "data": {
      "text/plain": [
       "0.12324685128531129"
      ]
     },
     "execution_count": 19,
     "metadata": {},
     "output_type": "execute_result"
    }
   ],
   "source": [
    "len(set(wsj.tokens)) / len(wsj.tokens)"
   ]
  },
  {
   "cell_type": "code",
   "execution_count": 20,
   "id": "86e1800f-b4ba-4ef7-8b98-24903c75a5e2",
   "metadata": {},
   "outputs": [],
   "source": [
    "personals = book.text8"
   ]
  },
  {
   "cell_type": "code",
   "execution_count": 21,
   "id": "f6bf20e2-fdef-493e-b7d5-8e95383d854e",
   "metadata": {},
   "outputs": [
    {
     "data": {
      "text/plain": [
       "0.22765564002465585"
      ]
     },
     "execution_count": 21,
     "metadata": {},
     "output_type": "execute_result"
    }
   ],
   "source": [
    "len(set(personals.tokens)) / len(personals.tokens)"
   ]
  },
  {
   "cell_type": "code",
   "execution_count": 22,
   "id": "5ba16572-6425-44bd-9402-f2b738c50945",
   "metadata": {},
   "outputs": [],
   "source": [
    "thursday = book.text9"
   ]
  },
  {
   "cell_type": "code",
   "execution_count": 23,
   "id": "05e92206-1db5-46ae-a7ae-40aae499b429",
   "metadata": {},
   "outputs": [
    {
     "data": {
      "text/plain": [
       "0.0983485761345412"
      ]
     },
     "execution_count": 23,
     "metadata": {},
     "output_type": "execute_result"
    }
   ],
   "source": [
    "len(set(thursday.tokens)) / len(thursday.tokens)"
   ]
  },
  {
   "cell_type": "code",
   "execution_count": 27,
   "id": "c5bd32ba-6ebc-4ef6-82f4-00ba7d512cbc",
   "metadata": {},
   "outputs": [
    {
     "data": {
      "text/plain": [
       "6066"
      ]
     },
     "execution_count": 27,
     "metadata": {},
     "output_type": "execute_result"
    }
   ],
   "source": [
    "len(set(chatcorpus.tokens))"
   ]
  },
  {
   "cell_type": "code",
   "execution_count": 32,
   "id": "b38f7f3a-1438-4027-bba7-f669128bd072",
   "metadata": {},
   "outputs": [
    {
     "ename": "NameError",
     "evalue": "name 'democracy' is not defined",
     "output_type": "error",
     "traceback": [
      "\u001b[1;31m---------------------------------------------------------------------------\u001b[0m",
      "\u001b[1;31mNameError\u001b[0m                                 Traceback (most recent call last)",
      "\u001b[1;32m~\\AppData\\Local\\Temp/ipykernel_18472/19746949.py\u001b[0m in \u001b[0;36m<module>\u001b[1;34m\u001b[0m\n\u001b[1;32m----> 1\u001b[1;33m \u001b[0msorted\u001b[0m\u001b[1;33m(\u001b[0m\u001b[0mcorpus\u001b[0m\u001b[1;33m.\u001b[0m\u001b[0mtokens\u001b[0m\u001b[1;33m(\u001b[0m\u001b[0mdemocracy\u001b[0m\u001b[1;33m)\u001b[0m\u001b[1;33m)\u001b[0m\u001b[1;33m\u001b[0m\u001b[1;33m\u001b[0m\u001b[0m\n\u001b[0m",
      "\u001b[1;31mNameError\u001b[0m: name 'democracy' is not defined"
     ]
    }
   ],
   "source": []
  },
  {
   "cell_type": "code",
   "execution_count": 45,
   "id": "99c00f42-9b2d-450e-9d7b-b80605168841",
   "metadata": {},
   "outputs": [
    {
     "ename": "NameError",
     "evalue": "name 'true' is not defined",
     "output_type": "error",
     "traceback": [
      "\u001b[1;31m---------------------------------------------------------------------------\u001b[0m",
      "\u001b[1;31mNameError\u001b[0m                                 Traceback (most recent call last)",
      "\u001b[1;32m~\\AppData\\Local\\Temp/ipykernel_18472/1686409423.py\u001b[0m in \u001b[0;36m<module>\u001b[1;34m\u001b[0m\n\u001b[1;32m----> 1\u001b[1;33m \u001b[0msorted\u001b[0m\u001b[1;33m(\u001b[0m\u001b[0mset\u001b[0m\u001b[1;33m(\u001b[0m\u001b[0mwsj\u001b[0m\u001b[1;33m.\u001b[0m\u001b[0mtokens\u001b[0m\u001b[1;33m)\u001b[0m\u001b[1;33m,\u001b[0m \u001b[0mreverse\u001b[0m\u001b[1;33m=\u001b[0m\u001b[0mtrue\u001b[0m\u001b[1;33m)\u001b[0m\u001b[1;33m\u001b[0m\u001b[1;33m\u001b[0m\u001b[0m\n\u001b[0m",
      "\u001b[1;31mNameError\u001b[0m: name 'true' is not defined"
     ]
    }
   ],
   "source": [
    "sorted(set(wsj.tokens), reverse=true)]0:1["
   ]
  },
  {
   "cell_type": "code",
   "execution_count": null,
   "id": "91bcc280-9d56-417f-9e85-98dedc1f13d8",
   "metadata": {},
   "outputs": [],
   "source": []
  }
 ],
 "metadata": {
  "kernelspec": {
   "display_name": "Python 3 (ipykernel)",
   "language": "python",
   "name": "python3"
  },
  "language_info": {
   "codemirror_mode": {
    "name": "ipython",
    "version": 3
   },
   "file_extension": ".py",
   "mimetype": "text/x-python",
   "name": "python",
   "nbconvert_exporter": "python",
   "pygments_lexer": "ipython3",
   "version": "3.9.7"
  }
 },
 "nbformat": 4,
 "nbformat_minor": 5
}
