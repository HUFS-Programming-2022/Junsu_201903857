{
 "cells": [
  {
   "cell_type": "markdown",
   "id": "f0282a92-7c21-40fd-9f0c-def28d0b28aa",
   "metadata": {},
   "source": [
    "# week_02"
   ]
  },
  {
   "cell_type": "markdown",
   "id": "94ec8a32-3cb4-4f4f-978b-2fc320143a08",
   "metadata": {},
   "source": [
    "### Ch.02 - Variables"
   ]
  },
  {
   "cell_type": "markdown",
   "id": "75db739f-e4be-4dbe-9d4f-d9914f2109b4",
   "metadata": {},
   "source": [
    "#### 자료형 변환"
   ]
  },
  {
   "cell_type": "code",
   "execution_count": 2,
   "id": "3ae186e6-2632-4fee-a9c7-0801d2a25a14",
   "metadata": {},
   "outputs": [
    {
     "name": "stdout",
     "output_type": "stream",
     "text": [
      "1.0 <class 'float'>\n",
      "1 <class 'str'>\n",
      "True <class 'bool'>\n"
     ]
    }
   ],
   "source": [
    "a = 1 #int\n",
    "\n",
    "print(float(a), type(float(a))) #int > float\n",
    "print(str(a), type(str(a))) #int > str\n",
    "print(bool(a), type(bool(a))) #int > bool / bool 자료형의 경우 비어있으면 False(ex.0, "
   ]
  },
  {
   "cell_type": "code",
   "execution_count": 11,
   "id": "584b40ba-8955-42ae-90f3-be69afdebb69",
   "metadata": {},
   "outputs": [
    {
     "name": "stdout",
     "output_type": "stream",
     "text": [
      "1\n"
     ]
    }
   ],
   "source": [
    "# float > int 로 변환할 때, 소수점은 제거됨\n",
    "\n",
    "a = 1.5\n",
    "\n",
    "print(int(a))"
   ]
  },
  {
   "cell_type": "code",
   "execution_count": 13,
   "id": "ca211504-c605-4f03-a7b5-f0d7c33e03ba",
   "metadata": {},
   "outputs": [
    {
     "data": {
      "text/plain": [
       "1.5"
      ]
     },
     "execution_count": 13,
     "metadata": {},
     "output_type": "execute_result"
    }
   ],
   "source": [
    "# str > int, float 로 변환할 때, str에 소수점이 존재한다면 float로 받아야 한다.\n",
    "\n",
    "a = \"1.5\"\n",
    "float(a)"
   ]
  },
  {
   "cell_type": "code",
   "execution_count": 5,
   "id": "1261e37f-a146-4c9b-b976-3234539faac3",
   "metadata": {},
   "outputs": [
    {
     "data": {
      "text/plain": [
       "1.5"
      ]
     },
     "execution_count": 5,
     "metadata": {},
     "output_type": "execute_result"
    }
   ],
   "source": [
    "float(a)"
   ]
  },
  {
   "cell_type": "code",
   "execution_count": 14,
   "id": "9efd0328-a052-48a2-af05-0b6d87e346fa",
   "metadata": {},
   "outputs": [
    {
     "name": "stdout",
     "output_type": "stream",
     "text": [
      "8\n",
      "9\n"
     ]
    }
   ],
   "source": [
    "# 자료형 변환의 시점에에 따라 결과값이 달라질 수 있음\n",
    "\n",
    "x = 3.8\n",
    "y = 5.5\n",
    "\n",
    "print(int(x) + int(y))\n",
    "print(int(x + y))"
   ]
  },
  {
   "cell_type": "markdown",
   "id": "c0cf5e00-3147-4319-9e65-75e8e4f2006f",
   "metadata": {},
   "source": [
    "### Print 함수에 대한 Tip\n",
    "\n",
    "- print: 값을 출력하는 함수\n",
    "- 괄호 안의 요소들은 기본적으로 띄어 짐\n",
    "- print 함수에서 여러 요소들을 출력하는 다양한 방법\n",
    "  - '+'로 연결\n",
    "  - 'sep', 'end' 사용"
   ]
  },
  {
   "cell_type": "code",
   "execution_count": 16,
   "id": "7d97b26c-4c74-471f-93dc-d4b3de39b1e1",
   "metadata": {},
   "outputs": [
    {
     "name": "stdout",
     "output_type": "stream",
     "text": [
      "apple orange banana\n",
      "peach\n"
     ]
    }
   ],
   "source": [
    "print('apple', 'orange', 'banana') #print 함수의 기본값(default)\n",
    "print('peach')"
   ]
  },
  {
   "cell_type": "code",
   "execution_count": 17,
   "id": "57fd1779-6d3b-4f10-bd55-312fcb05e6e2",
   "metadata": {},
   "outputs": [
    {
     "name": "stdout",
     "output_type": "stream",
     "text": [
      "bread water rice\n"
     ]
    }
   ],
   "source": [
    "# 라인이 짧아 여러 라인을 한 라인에 넣고 싶을 경우: ';' 사용\n",
    "bread = 'bread'; water = 'water'; rice = 'rice'\n",
    "print(bread, water, rice, sep=' ', end='\\n')"
   ]
  },
  {
   "cell_type": "markdown",
   "id": "ad897406-4a01-4df3-9d86-d09bc18bc9b4",
   "metadata": {},
   "source": [
    "### input()\n",
    "  - console에서 사용자에게 값을 입력 받는 함수\n",
    "  - 입력 받는 값의 타입은 문자열(str)"
   ]
  },
  {
   "cell_type": "code",
   "execution_count": 21,
   "id": "cc01b305-714e-4174-bec1-cbbf922f148b",
   "metadata": {},
   "outputs": [
    {
     "name": "stdin",
     "output_type": "stream",
     "text": [
      "what`s your name? Junsu\n"
     ]
    },
    {
     "data": {
      "text/plain": [
       "'Junsu'"
      ]
     },
     "execution_count": 21,
     "metadata": {},
     "output_type": "execute_result"
    }
   ],
   "source": [
    "# 괄호 안에 문자열을 넣으면 출력 후 사용자에게 입력값을 받는다.\n",
    "input(\"what`s your name?\")"
   ]
  },
  {
   "cell_type": "code",
   "execution_count": 22,
   "id": "745839ce-0ed4-41ae-9a0a-aac8edcb4230",
   "metadata": {},
   "outputs": [
    {
     "name": "stdin",
     "output_type": "stream",
     "text": [
      "How old are you? 26\n"
     ]
    },
    {
     "name": "stdout",
     "output_type": "stream",
     "text": [
      "<class 'int'>\n"
     ]
    }
   ],
   "source": [
    "# input을 str 외의 다른 타입으로 사용하고 싶을 경우에는 input 함수의 자료형을 변환한다.\n",
    "age = int(input(\"How old are you?\"))\n",
    "print(type(age))"
   ]
  },
  {
   "cell_type": "markdown",
   "id": "5dcdaf70-2295-4371-a53a-e4f4c65f5299",
   "metadata": {},
   "source": [
    "### printing의 가독성을 높이는 방법"
   ]
  },
  {
   "cell_type": "code",
   "execution_count": 25,
   "id": "165a252c-27ac-4d72-9910-6172b423b18a",
   "metadata": {},
   "outputs": [
    {
     "name": "stdin",
     "output_type": "stream",
     "text": [
      "How old are you? 26\n"
     ]
    },
    {
     "name": "stdout",
     "output_type": "stream",
     "text": [
      "당신이 태어난 해는 1997 년입니다!\n",
      "당신이 태어난 해는 1997년입니다!\n",
      "당신이 태어난 해는 1997년입니다!\n"
     ]
    }
   ],
   "source": [
    "age = int(input(\"How old are you?\"))\n",
    "print('당신이 태어난 해는', 2022 - age + 1, '년입니다!')\n",
    "\n",
    "# `print(f'{변수}')`\n",
    "print(f'당신이 태어난 해는 {2022 - age + 1}년입니다!')\n",
    "\n",
    "birth_year = 2022 - age + 1\n",
    "print(f'당신이 태어난 해는 {birth_year}년입니다!')"
   ]
  },
  {
   "cell_type": "markdown",
   "id": "73c13b4d-576d-4503-ab17-8b700e8063a9",
   "metadata": {},
   "source": [
    "### Quiz 1\n",
    "  - 택배 정보를 입력 받고 무게에 따른 값 산정하기\n",
    "    - 수취인 성명:\n",
    "    - 수취인 주소:\n",
    "    - 배송비:3000원\n",
    "    - 물건 비용:<계산된 값>원\n",
    "    - 총계: <계산된 값>원\n",
    "  - 물건 비용은 무게(g) * 5\n",
    "  - 입력 값 = 이름, 주소, 무게"
   ]
  },
  {
   "cell_type": "code",
   "execution_count": 26,
   "id": "f46255f7-12e7-4072-a628-75b728afda79",
   "metadata": {},
   "outputs": [
    {
     "name": "stdout",
     "output_type": "stream",
     "text": [
      "이름\n"
     ]
    },
    {
     "name": "stdin",
     "output_type": "stream",
     "text": [
      " 홍준수\n"
     ]
    },
    {
     "name": "stdout",
     "output_type": "stream",
     "text": [
      "주소\n"
     ]
    },
    {
     "name": "stdin",
     "output_type": "stream",
     "text": [
      " 휘경로\n"
     ]
    },
    {
     "name": "stdout",
     "output_type": "stream",
     "text": [
      "무게(g)\n"
     ]
    },
    {
     "name": "stdin",
     "output_type": "stream",
     "text": [
      " 500\n"
     ]
    }
   ],
   "source": [
    "print('이름')\n",
    "name = str(input())\n",
    "\n",
    "print('주소')\n",
    "adress = str(input()) #교수님 피드백: `str` 생략 가능\n",
    "\n",
    "print('무게(g)')\n",
    "gram = float(input())"
   ]
  },
  {
   "cell_type": "code",
   "execution_count": 27,
   "id": "c3e50094-5b33-428a-8c7c-32f8f4f4c795",
   "metadata": {},
   "outputs": [],
   "source": [
    "delivery_charge = 3000\n",
    "weight_charge = gram * 5\n",
    "total_charge = int(delivery_charge + weight_charge)"
   ]
  },
  {
   "cell_type": "code",
   "execution_count": 28,
   "id": "5fb90f55-f21f-400d-9cd3-7a0efc4a3870",
   "metadata": {},
   "outputs": [
    {
     "name": "stdout",
     "output_type": "stream",
     "text": [
      "수취인 성명: 홍준수\n",
      "수취인 주소: 휘경로\n",
      "배송비: 3000원\n",
      "물건 비용: 2500.0원\n",
      "총 합계: 5500원\n"
     ]
    }
   ],
   "source": [
    "print(f'수취인 성명: {name}')\n",
    "print(f'수취인 주소: {adress}')\n",
    "print(f'배송비: {delivery_charge}원')\n",
    "print(f'물건 비용: {weight_charge}원')\n",
    "print(f'총 합계: {total_charge}원')"
   ]
  },
  {
   "cell_type": "markdown",
   "id": "47f0635f-fb35-44c3-b957-0852065ad06d",
   "metadata": {},
   "source": [
    "### Ch.03 - Numbers\n",
    "\n",
    "##### boolean\n",
    "  - Ture 혹은 False의 논리값\n",
    "  - False인 경우\n",
    "    - 0\n",
    "    - blank\n",
    "  - if문(조건문)"
   ]
  },
  {
   "cell_type": "code",
   "execution_count": 30,
   "id": "980fc6e3-348c-48fa-97eb-b614283f902e",
   "metadata": {},
   "outputs": [
    {
     "name": "stdout",
     "output_type": "stream",
     "text": [
      "True\n",
      "True\n",
      "False\n",
      "False\n",
      "False\n"
     ]
    }
   ],
   "source": [
    "print(bool(19))\n",
    "print(bool('홍준수'))\n",
    "\n",
    "print(bool(0))\n",
    "print(bool(''))\n",
    "print(bool(None))"
   ]
  },
  {
   "cell_type": "markdown",
   "id": "b96542ab-dd9d-4a3e-a7ef-5a8ffbee00f6",
   "metadata": {},
   "source": [
    "## integer\n",
    "\n",
    "형식: 요소, 연산자, 요소\n",
    "\n",
    "  - 더하기: +\n",
    "  - 빼기: -\n",
    "  - 곱하기: *\n",
    "  - 나누기: /\n",
    "  \n",
    "  - 거듭제곱: **\n",
    "  \n",
    "  - 나누기(몫): //\n",
    "  - 나누기(나머지): %"
   ]
  },
  {
   "cell_type": "code",
   "execution_count": 31,
   "id": "a2b27658-4e6e-46b6-be4c-4fefcd94964a",
   "metadata": {},
   "outputs": [
    {
     "name": "stdout",
     "output_type": "stream",
     "text": [
      "12\n",
      "6\n",
      "27\n",
      "3.0\n",
      "729\n",
      "3\n",
      "0\n"
     ]
    }
   ],
   "source": [
    "x = 9\n",
    "y = 3\n",
    "\n",
    "print(x + y)\n",
    "print(x - y)\n",
    "print(x * y)\n",
    "print(x / y)\n",
    "\n",
    "print(x ** y)\n",
    "print(x // y)\n",
    "print(x % y)"
   ]
  },
  {
   "cell_type": "code",
   "execution_count": 32,
   "id": "9cf51da8-6ec2-4d58-ba1b-2100755fde6a",
   "metadata": {},
   "outputs": [
    {
     "data": {
      "text/plain": [
       "(3, 0)"
      ]
     },
     "execution_count": 32,
     "metadata": {},
     "output_type": "execute_result"
    }
   ],
   "source": [
    "#몫과 나머지를 한번에 구하는 방법\n",
    "\n",
    "divmod(x, y)\n",
    "#출력: (몫, 나머지)"
   ]
  },
  {
   "cell_type": "code",
   "execution_count": 33,
   "id": "120c9b32-1601-41dc-911d-86e55e2f1031",
   "metadata": {},
   "outputs": [],
   "source": [
    "# 나누는 수가 0이 되지 않도록 유의"
   ]
  },
  {
   "cell_type": "markdown",
   "id": "c82e645c-574d-4fa0-9a18-7b6e303cc208",
   "metadata": {},
   "source": [
    "#### 비교연산자\n",
    "  - x < y\n",
    "  - x > y\n",
    "  - x >= y\n",
    "  - x <= y\n",
    "  - x == y\n",
    "  - x != y\n",
    "  - x is y(값, 메모리 주소)\n",
    "  - x is not y"
   ]
  },
  {
   "cell_type": "markdown",
   "id": "28ec5b6b-7650-4153-8544-b84f7c8520fe",
   "metadata": {},
   "source": [
    "### 복합 대입 연산자 \\ compound assignment operator\n",
    "  - 형식 1: 요소 = 요소, 연산자, 요소\n",
    "  - 형식 2: 요소, 연산자=, 요소"
   ]
  },
  {
   "cell_type": "markdown",
   "id": "53b3fdcd-8694-43be-983f-be6280b817a0",
   "metadata": {},
   "source": [
    "처리 과정\n",
    "\n",
    "  - 1. 우변 계산값을 임시 변수에 할당\n",
    "  - 2. 임시 변수의 값을 좌변에 할당\n",
    "  - ex) x = x -2\n",
    "      - 1. temp = x - 2\n",
    "      - 2. x = temp"
   ]
  },
  {
   "cell_type": "code",
   "execution_count": 37,
   "id": "00df405f-84db-4aae-9cb5-c126fe62db10",
   "metadata": {},
   "outputs": [
    {
     "name": "stdout",
     "output_type": "stream",
     "text": [
      "11\n",
      "11\n"
     ]
    }
   ],
   "source": [
    "x = 9\n",
    "x = x + 2\n",
    "print(x)\n",
    "\n",
    "x = 9\n",
    "x += 2\n",
    "print(x)"
   ]
  },
  {
   "cell_type": "markdown",
   "id": "2b98594f-f8d2-4653-b9e2-32822c8f8ec2",
   "metadata": {},
   "source": [
    "### Quiz 1.\n",
    "  - 반지름을 입력 받아서 원의 면적 구하기\n",
    "  - 면적 = pi*r**"
   ]
  },
  {
   "cell_type": "code",
   "execution_count": 40,
   "id": "e6775d07-a454-4287-bc79-4508b47a56f1",
   "metadata": {},
   "outputs": [
    {
     "name": "stdin",
     "output_type": "stream",
     "text": [
      "반지름:  20\n"
     ]
    },
    {
     "name": "stdout",
     "output_type": "stream",
     "text": [
      "1256.0\n"
     ]
    }
   ],
   "source": [
    "pi = 3.14 # Prof: `pi` 값도 변수로 받기\n",
    "radius = float(input('반지름: ')) # Prof: `r`이 아닌 의미가 있는 변수명으로 지정\n",
    "area = pi * (radius ** 2)\n",
    "\n",
    "print(area)"
   ]
  },
  {
   "cell_type": "markdown",
   "id": "2c3cafcf-1c33-4e22-b4a0-6e6ac0ae0798",
   "metadata": {},
   "source": [
    "### Quiz 2.\n",
    "  - 2-1. 숫자를 입력 받고 3의 배수인지 확인하기\n",
    "  - 2-2. 숫자를 입력 받고 홀수인지 확인하기"
   ]
  },
  {
   "cell_type": "code",
   "execution_count": 42,
   "id": "3cb1f6f9-75ca-4315-aad7-157af781c24e",
   "metadata": {},
   "outputs": [
    {
     "name": "stdin",
     "output_type": "stream",
     "text": [
      "숫자를 입력하세요:  14\n"
     ]
    },
    {
     "data": {
      "text/plain": [
       "False"
      ]
     },
     "execution_count": 42,
     "metadata": {},
     "output_type": "execute_result"
    }
   ],
   "source": [
    "# 2-1.\n",
    "\n",
    "number = float(input('숫자를 입력하세요: '))\n",
    "bool(number % 3 == 0)"
   ]
  },
  {
   "cell_type": "code",
   "execution_count": 43,
   "id": "dd0a681a-c772-400e-9036-0f1d01bfe643",
   "metadata": {},
   "outputs": [
    {
     "name": "stdin",
     "output_type": "stream",
     "text": [
      "숫자를 입력하세요:  8\n"
     ]
    },
    {
     "data": {
      "text/plain": [
       "False"
      ]
     },
     "execution_count": 43,
     "metadata": {},
     "output_type": "execute_result"
    }
   ],
   "source": [
    "# 2-2.\n",
    "\n",
    "number = float(input('숫자를 입력하세요: '))\n",
    "bool(number % 2 != 0)"
   ]
  },
  {
   "cell_type": "markdown",
   "id": "e6493f25-4173-4e48-9f04-f460b42ac894",
   "metadata": {},
   "source": [
    "### 지수 표현\n",
    "  - 예시: 1.0e-4\n",
    "  - e의 앞 부분은 소수, 정수 모두 가능\n",
    "  - 뒷 부븐은 정수여야만 함\n",
    "  - 뒷 부분이 음수면 소수점 자리수를 의미함\n",
    "  - e, E모두 사용 가능"
   ]
  },
  {
   "cell_type": "code",
   "execution_count": 45,
   "id": "01d814f5-1a86-4bfa-a9fe-25c26917c2d3",
   "metadata": {},
   "outputs": [
    {
     "data": {
      "text/plain": [
       "0.0001"
      ]
     },
     "execution_count": 45,
     "metadata": {},
     "output_type": "execute_result"
    }
   ],
   "source": [
    "1.0e-4"
   ]
  },
  {
   "cell_type": "code",
   "execution_count": 46,
   "id": "6ce2e9d3-9ed5-4bf9-892c-3962277fe614",
   "metadata": {},
   "outputs": [
    {
     "name": "stdout",
     "output_type": "stream",
     "text": [
      "0.0004005\n",
      "0.0004005\n"
     ]
    }
   ],
   "source": [
    "# `0.0004005`를 지수로 표현하기\n",
    "\n",
    "print(4005e-7)\n",
    "print(4.005e-4)"
   ]
  },
  {
   "cell_type": "markdown",
   "id": "8cee0f89-afcb-498c-9030-6e1b62a61c14",
   "metadata": {},
   "source": [
    "### if 조건문\n",
    "  - if <조건식>:\n",
    "        <실행할 코드>\n",
    "  - 조건문이 두 개라면: if, else\n",
    "  - 조건문이 세 개 이상이라면: if, elif, ..., else"
   ]
  },
  {
   "cell_type": "code",
   "execution_count": 48,
   "id": "de7fc422-00b4-488a-bd19-6f17f9cdea94",
   "metadata": {},
   "outputs": [
    {
     "name": "stdout",
     "output_type": "stream",
     "text": [
      "두 수는 같지 않다\n"
     ]
    }
   ],
   "source": [
    "# 조건문이 1개\n",
    "\n",
    "if 3 != 1:\n",
    "    print(\"두 수는 같지 않다\")"
   ]
  },
  {
   "cell_type": "code",
   "execution_count": 49,
   "id": "273b6314-5a1c-4f7b-a848-816e7f9a925d",
   "metadata": {},
   "outputs": [
    {
     "name": "stdout",
     "output_type": "stream",
     "text": [
      "두 수는 같지 않다\n"
     ]
    }
   ],
   "source": [
    "# 조건문이 2개\n",
    "if 3 != 1:\n",
    "    print(\"두 수는 같지 않다\")\n",
    "else:\n",
    "    print(\"두 수가 같다\")"
   ]
  },
  {
   "cell_type": "code",
   "execution_count": 50,
   "id": "d61789db-e67a-46ab-b575-0ef1bcf0b8d6",
   "metadata": {},
   "outputs": [
    {
     "name": "stdout",
     "output_type": "stream",
     "text": [
      "3보다 크다\n"
     ]
    }
   ],
   "source": [
    "# 조건문이 3개\n",
    "\n",
    "a = 4\n",
    "\n",
    "if a < 3:\n",
    "    print(\"3보다 작다\")\n",
    "elif a == 3:\n",
    "    print(\"3이다\")\n",
    "else:\n",
    "    print(\"3보다 크다\")"
   ]
  },
  {
   "cell_type": "markdown",
   "id": "909cf7bd-d56d-4386-b878-44a18444ff00",
   "metadata": {},
   "source": [
    "### 코드를 짜는 팁\n",
    "\n",
    " - 주석을 달기\n",
    "   \n",
    "   - '#' hash, sharp, ...\n",
    "   - '#' 시작 지점부터 라인 끝까지가 주석 처리됨, 라인이 바뀌면 코드로 인식\n",
    "   - \"\"\" \"\"\"\n",
    "   - 문자열 안의 sharp는 부호로 인식한다.\n",
    "   - Reason: 코드에 대한 설명은 최대한 하지 않는다. 의도를 나타내기 위함이거나, 오류가 있거나..\n",
    "   \n",
    " - 라인 유지하기\n",
    " \n",
    "   - 들여쓰기(default space 4개, Tab을 이용)\n",
    "   - 논리 구조를 나타내기 때문에 굉장히 중요\n",
    "   - 한 라인에 80자 정도(백슬래시로 라인을 끊어준다.)"
   ]
  },
  {
   "cell_type": "markdown",
   "id": "de8384f7-4698-4377-a6c4-efb9eede6dc1",
   "metadata": {},
   "source": [
    "### Quiz 1\n",
    "\n",
    "  - 시험 점수를 입력 받고, 80점 이상이면 True, 아니면 False 반환하기"
   ]
  },
  {
   "cell_type": "code",
   "execution_count": 51,
   "id": "ce3b57aa-2d47-4d62-95a8-df5f6b6e7430",
   "metadata": {},
   "outputs": [
    {
     "name": "stdin",
     "output_type": "stream",
     "text": [
      "시험 점수를 입력하세요:  77\n"
     ]
    },
    {
     "name": "stdout",
     "output_type": "stream",
     "text": [
      "False\n"
     ]
    }
   ],
   "source": [
    "score = float(input(\"시험 점수를 입력하세요: \"))\n",
    "\n",
    "if score >= 80:\n",
    "    print(True)\n",
    "else:\n",
    "    print(False)"
   ]
  },
  {
   "cell_type": "markdown",
   "id": "d63fdde4-8da4-4188-ac95-48f696832fd4",
   "metadata": {},
   "source": [
    "### Quiz 2\n",
    "\n",
    "  - 시험 점수를 입력 받고, 95 이상 A+, 90 이상 A, 85 이상 B+, 나머지를 F로 출력하기"
   ]
  },
  {
   "cell_type": "code",
   "execution_count": 52,
   "id": "0896df2c-df58-4cab-abe6-310a2be98c23",
   "metadata": {},
   "outputs": [
    {
     "name": "stdin",
     "output_type": "stream",
     "text": [
      "시험 점수를 입력하세요:  100\n"
     ]
    },
    {
     "name": "stdout",
     "output_type": "stream",
     "text": [
      "A+\n"
     ]
    }
   ],
   "source": [
    "score = float(input(\"시험 점수를 입력하세요: \"))\n",
    "\n",
    "if score >= 95:\n",
    "    print('A+')\n",
    "elif score < 95 and score >= 90:\n",
    "    print('A')\n",
    "elif score < 90 and score >= 85:\n",
    "    print('B+')\n",
    "else:\n",
    "    print('F')"
   ]
  },
  {
   "cell_type": "code",
   "execution_count": null,
   "id": "6f67fb2f-1e03-42cb-a792-733b3c6c6836",
   "metadata": {},
   "outputs": [],
   "source": []
  },
  {
   "cell_type": "code",
   "execution_count": null,
   "id": "8ca79469-01fd-481a-849c-82b5ec0e5191",
   "metadata": {},
   "outputs": [],
   "source": []
  }
 ],
 "metadata": {
  "kernelspec": {
   "display_name": "Python 3 (ipykernel)",
   "language": "python",
   "name": "python3"
  },
  "language_info": {
   "codemirror_mode": {
    "name": "ipython",
    "version": 3
   },
   "file_extension": ".py",
   "mimetype": "text/x-python",
   "name": "python",
   "nbconvert_exporter": "python",
   "pygments_lexer": "ipython3",
   "version": "3.9.7"
  }
 },
 "nbformat": 4,
 "nbformat_minor": 5
}
