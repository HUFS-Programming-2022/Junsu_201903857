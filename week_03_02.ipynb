{
 "cells": [
  {
   "cell_type": "markdown",
   "id": "e382dcaa-2b64-44b4-8777-834796bb8f8c",
   "metadata": {},
   "source": [
    "# Ch.05 - String[문자열]\n",
    "\n",
    "  - str type\n",
    "  - 시스템에서 가장 작은 단위\n",
    "  - 불변적인 성격(immutable)\n",
    "    - 'abcd' -> b -> a로 바꿀 수 없다.\n",
    "  - 문법: '' or \"\"로 감싸면 모두 str.\n",
    "    - 예: '24'\n",
    "  - ''' ''' or \"\"\" \"\"\" 을 사용하면 주석\n",
    "  - 형 변환: str()\n",
    "  \n",
    "## Escape character[이스케이프 문자]\n",
    "  - 눈에 보이는 대로 인식되지 않는 문자열\n",
    "  - 문법: \\ + <character>\n",
    "  - \\n, \\t, \\b, \\'\n",
    "  - \\n 출력은?\n",
    "    - \\\\n\n",
    "    - r ''(rawstring)\n",
    "  - 문자열을 바꾸는 것이 아니라 표면상의 형태를 말하는 것"
   ]
  },
  {
   "cell_type": "code",
   "execution_count": 1,
   "id": "91b54ab0-7122-4561-9c03-2a29e77c1e07",
   "metadata": {},
   "outputs": [
    {
     "name": "stdout",
     "output_type": "stream",
     "text": [
      "Hellworld\n"
     ]
    }
   ],
   "source": [
    "print(\"Hello\\bworld\")"
   ]
  },
  {
   "cell_type": "code",
   "execution_count": 2,
   "id": "6a4c6ad3-4643-4c1a-a348-6efbcd94d748",
   "metadata": {},
   "outputs": [
    {
     "name": "stdout",
     "output_type": "stream",
     "text": [
      "Hellow\tworld\n"
     ]
    }
   ],
   "source": [
    "print(\"Hellow\\tworld\")"
   ]
  },
  {
   "cell_type": "markdown",
   "id": "518c11cc-f8c3-4a3f-be2b-97c7afa30184",
   "metadata": {},
   "source": [
    "### 연산\n",
    "- concentration (+)\n",
    "  - '' + '' -> 붙이기\n",
    "- 복제(*)\n",
    "  - ''*4 -> 4번의 반복"
   ]
  },
  {
   "cell_type": "code",
   "execution_count": 12,
   "id": "42528875-a22b-46d2-a23f-49d8d55f9be4",
   "metadata": {
    "tags": []
   },
   "outputs": [
    {
     "data": {
      "text/plain": [
       "'My name isJake'"
      ]
     },
     "execution_count": 12,
     "metadata": {},
     "output_type": "execute_result"
    }
   ],
   "source": [
    "\"My name is\" + \"Jake\""
   ]
  },
  {
   "cell_type": "markdown",
   "id": "1ddc5920-7038-45a8-9fe8-714d3e00bb39",
   "metadata": {
    "tags": []
   },
   "source": [
    "### Slicing\n",
    "- 지정 범위의 문자열을 추출하는 것\n",
    "- 문법: 대괄호 + 오프셋 이용 [offset]\n",
    "  - [start:end:step]\n",
    "  - 오프셋은 0부터 시작\n",
    "  - start 포함, end 미포함 (이상, 미만)\n",
    "  - 오프셋의 특정 항목이 0일 경우 생략할 수 있다.\n",
    "    - 예: [:3]"
   ]
  },
  {
   "cell_type": "code",
   "execution_count": 13,
   "id": "93117260-4f49-458b-b6bd-63015df847e1",
   "metadata": {},
   "outputs": [
    {
     "data": {
      "text/plain": [
       "'brainbrain'"
      ]
     },
     "execution_count": 13,
     "metadata": {},
     "output_type": "execute_result"
    }
   ],
   "source": [
    "word = 'brain'\n",
    "\n",
    "word + word"
   ]
  },
  {
   "cell_type": "code",
   "execution_count": 15,
   "id": "d2deaae1-4e46-4ef1-a548-94623dcc090e",
   "metadata": {},
   "outputs": [
    {
     "data": {
      "text/plain": [
       "'brainbrainbrain'"
      ]
     },
     "execution_count": 15,
     "metadata": {},
     "output_type": "execute_result"
    }
   ],
   "source": [
    "word * 3"
   ]
  },
  {
   "cell_type": "code",
   "execution_count": 16,
   "id": "ba48f662-cc67-4683-bf81-b28b5873444c",
   "metadata": {},
   "outputs": [],
   "source": [
    "sent = \"helloworld i`m a boy\""
   ]
  },
  {
   "cell_type": "code",
   "execution_count": 18,
   "id": "59a960b4-be95-4525-a800-18cff7dbc2d2",
   "metadata": {},
   "outputs": [
    {
     "data": {
      "text/plain": [
       "'hello'"
      ]
     },
     "execution_count": 18,
     "metadata": {},
     "output_type": "execute_result"
    }
   ],
   "source": [
    "sent[0:5]"
   ]
  },
  {
   "cell_type": "code",
   "execution_count": 19,
   "id": "33d69d5f-77b7-48c0-a469-19f602265fb3",
   "metadata": {},
   "outputs": [
    {
     "data": {
      "text/plain": [
       "11"
      ]
     },
     "execution_count": 19,
     "metadata": {},
     "output_type": "execute_result"
    }
   ],
   "source": [
    "sent2 = 'hello world'\n",
    "len(sent2) # 공백까지 포함한다"
   ]
  },
  {
   "cell_type": "code",
   "execution_count": 21,
   "id": "1e651da8-c917-4bc3-b358-e3694a224345",
   "metadata": {},
   "outputs": [
    {
     "data": {
      "text/plain": [
       "'hlool `  o'"
      ]
     },
     "execution_count": 21,
     "metadata": {},
     "output_type": "execute_result"
    }
   ],
   "source": [
    "#처음부터 끝까지 2스텝씩 출력하기\n",
    "sent[0::2]"
   ]
  },
  {
   "cell_type": "code",
   "execution_count": 22,
   "id": "88b3d417-0104-4304-9a3b-0ff2c6246cc7",
   "metadata": {},
   "outputs": [
    {
     "data": {
      "text/plain": [
       "'yob a m`i dlrowolleh'"
      ]
     },
     "execution_count": 22,
     "metadata": {},
     "output_type": "execute_result"
    }
   ],
   "source": [
    "# 처음부터 끝까지 역순으로 출력하기\n",
    "sent[::-1]"
   ]
  }
 ],
 "metadata": {
  "kernelspec": {
   "display_name": "Python 3 (ipykernel)",
   "language": "python",
   "name": "python3"
  },
  "language_info": {
   "codemirror_mode": {
    "name": "ipython",
    "version": 3
   },
   "file_extension": ".py",
   "mimetype": "text/x-python",
   "name": "python",
   "nbconvert_exporter": "python",
   "pygments_lexer": "ipython3",
   "version": "3.9.7"
  }
 },
 "nbformat": 4,
 "nbformat_minor": 5
}
